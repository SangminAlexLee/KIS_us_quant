{
 "cells": [
  {
   "cell_type": "code",
   "execution_count": 16,
   "metadata": {},
   "outputs": [],
   "source": [
    "import pandas as pd\n",
    "import yfinance as yf\n",
    "from datetime import datetime, timedelta\n",
    "import shared_vars\n",
    "import datetime\n",
    "from datetime import timedelta, date\n",
    "import requests\n"
   ]
  },
  {
   "cell_type": "code",
   "execution_count": 3,
   "metadata": {},
   "outputs": [],
   "source": [
    "from sqlalchemy import create_engine\n",
    "import pymysql\n",
    "\n",
    "#DB 연결\n",
    "def db_conn(host='db-dfmba.cnm8u4m2cbtp.ap-northeast-2.rds.amazonaws.com' , port=3306):\n",
    "    engine = create_engine(f'mysql+pymysql://root:alexalex@{host}:{port}/stock_db')\n",
    "    con = pymysql.connect(user = 'root', \n",
    "                        passwd ='alexalex',\n",
    "                        host = f'{host}', \n",
    "                        db='stock_db', \n",
    "                        charset = 'utf8',\n",
    "                        cursorclass = pymysql.cursors.DictCursor)\n",
    "    mycursor = con.cursor()\n",
    "    return engine, con, mycursor"
   ]
  },
  {
   "cell_type": "code",
   "execution_count": 4,
   "metadata": {},
   "outputs": [],
   "source": [
    "#DB 에서 보유 주식의 최고 수익율, 수익금액 조회 \n",
    "engine, con, mycursor = db_conn()\n",
    "sql = \"select * from holding_stock_details\"\n",
    "mycursor.execute(sql)\n",
    "result = mycursor.fetchall()\n",
    "con.close()\n",
    "df_holding_stock_details = pd.DataFrame(result)"
   ]
  },
  {
   "cell_type": "code",
   "execution_count": 5,
   "metadata": {},
   "outputs": [],
   "source": [
    "df_holding_stock_details2 =df_holding_stock_details"
   ]
  },
  {
   "cell_type": "code",
   "execution_count": 25,
   "metadata": {},
   "outputs": [
    {
     "data": {
      "text/html": [
       "<div>\n",
       "<style scoped>\n",
       "    .dataframe tbody tr th:only-of-type {\n",
       "        vertical-align: middle;\n",
       "    }\n",
       "\n",
       "    .dataframe tbody tr th {\n",
       "        vertical-align: top;\n",
       "    }\n",
       "\n",
       "    .dataframe thead th {\n",
       "        text-align: right;\n",
       "    }\n",
       "</style>\n",
       "<table border=\"1\" class=\"dataframe\">\n",
       "  <thead>\n",
       "    <tr style=\"text-align: right;\">\n",
       "      <th></th>\n",
       "      <th>pdno</th>\n",
       "      <th>prdt_name</th>\n",
       "      <th>init_dt</th>\n",
       "      <th>prpr</th>\n",
       "      <th>evlu_amt</th>\n",
       "      <th>evlu_pfls_amt</th>\n",
       "      <th>evlu_pfls_rt</th>\n",
       "      <th>test</th>\n",
       "      <th>test2</th>\n",
       "    </tr>\n",
       "  </thead>\n",
       "  <tbody>\n",
       "    <tr>\n",
       "      <th>0</th>\n",
       "      <td>005930</td>\n",
       "      <td>삼성전자</td>\n",
       "      <td>2024-12-30</td>\n",
       "      <td>53500</td>\n",
       "      <td>642000</td>\n",
       "      <td>100001</td>\n",
       "      <td>-2.90</td>\n",
       "      <td>True</td>\n",
       "      <td>True</td>\n",
       "    </tr>\n",
       "    <tr>\n",
       "      <th>1</th>\n",
       "      <td>071050</td>\n",
       "      <td>한국금융지주</td>\n",
       "      <td>2024-12-30</td>\n",
       "      <td>71800</td>\n",
       "      <td>502600</td>\n",
       "      <td>400001</td>\n",
       "      <td>1.84</td>\n",
       "      <td>False</td>\n",
       "      <td>False</td>\n",
       "    </tr>\n",
       "    <tr>\n",
       "      <th>2</th>\n",
       "      <td>360200</td>\n",
       "      <td>ACE 미국S&amp;P500</td>\n",
       "      <td>2024-12-30</td>\n",
       "      <td>22105</td>\n",
       "      <td>22105</td>\n",
       "      <td>2000001</td>\n",
       "      <td>0.98</td>\n",
       "      <td>True</td>\n",
       "      <td>True</td>\n",
       "    </tr>\n",
       "  </tbody>\n",
       "</table>\n",
       "</div>"
      ],
      "text/plain": [
       "     pdno     prdt_name     init_dt   prpr evlu_amt evlu_pfls_amt  \\\n",
       "0  005930          삼성전자  2024-12-30  53500   642000        100001   \n",
       "1  071050        한국금융지주  2024-12-30  71800   502600        400001   \n",
       "2  360200  ACE 미국S&P500  2024-12-30  22105    22105       2000001   \n",
       "\n",
       "  evlu_pfls_rt   test  test2  \n",
       "0        -2.90   True   True  \n",
       "1         1.84  False  False  \n",
       "2         0.98   True   True  "
      ]
     },
     "execution_count": 25,
     "metadata": {},
     "output_type": "execute_result"
    }
   ],
   "source": [
    "# df_holding_stock_details.loc[:, 'test2'] = [True, False, True]\n",
    "df_holding_stock_details.loc[:, 'test2'] = df_holding_stock_details['test']\n",
    "df_holding_stock_details"
   ]
  },
  {
   "cell_type": "code",
   "execution_count": null,
   "metadata": {},
   "outputs": [],
   "source": []
  },
  {
   "cell_type": "code",
   "execution_count": null,
   "metadata": {},
   "outputs": [],
   "source": []
  },
  {
   "cell_type": "code",
   "execution_count": null,
   "metadata": {},
   "outputs": [],
   "source": [
    "df_holding_stock_details[]"
   ]
  },
  {
   "cell_type": "code",
   "execution_count": 7,
   "metadata": {},
   "outputs": [],
   "source": [
    "df_holding_stock_details2.loc[df_holding_stock_details.pdno == '005930', 'evlu_pfls_amt'] = 100001\n",
    "df_holding_stock_details2.loc[df_holding_stock_details.pdno == '071050', 'evlu_pfls_amt'] = 400001\n",
    "df_holding_stock_details2.loc[df_holding_stock_details.pdno == '360200', 'evlu_pfls_amt'] = 2000001\n"
   ]
  },
  {
   "cell_type": "code",
   "execution_count": 63,
   "metadata": {},
   "outputs": [
    {
     "data": {
      "text/html": [
       "<div>\n",
       "<style scoped>\n",
       "    .dataframe tbody tr th:only-of-type {\n",
       "        vertical-align: middle;\n",
       "    }\n",
       "\n",
       "    .dataframe tbody tr th {\n",
       "        vertical-align: top;\n",
       "    }\n",
       "\n",
       "    .dataframe thead th {\n",
       "        text-align: right;\n",
       "    }\n",
       "</style>\n",
       "<table border=\"1\" class=\"dataframe\">\n",
       "  <thead>\n",
       "    <tr style=\"text-align: right;\">\n",
       "      <th></th>\n",
       "      <th>pdno</th>\n",
       "      <th>evlu_pfls_amt_a</th>\n",
       "    </tr>\n",
       "  </thead>\n",
       "  <tbody>\n",
       "    <tr>\n",
       "      <th>0</th>\n",
       "      <td>005930</td>\n",
       "      <td>100001</td>\n",
       "    </tr>\n",
       "    <tr>\n",
       "      <th>1</th>\n",
       "      <td>071050</td>\n",
       "      <td>400001</td>\n",
       "    </tr>\n",
       "    <tr>\n",
       "      <th>2</th>\n",
       "      <td>360200</td>\n",
       "      <td>2000001</td>\n",
       "    </tr>\n",
       "  </tbody>\n",
       "</table>\n",
       "</div>"
      ],
      "text/plain": [
       "     pdno evlu_pfls_amt_a\n",
       "0  005930          100001\n",
       "1  071050          400001\n",
       "2  360200         2000001"
      ]
     },
     "execution_count": 63,
     "metadata": {},
     "output_type": "execute_result"
    }
   ],
   "source": [
    "df_merged = df_holding_stock_details2.merge(df_holding_stock_details,how='outer', on='pdno', suffixes=('_a', '_b'))\n",
    "\n",
    "df_max_profit_for_update = df_merged[df_merged['evlu_pfls_amt_a'].astype(float) > df_merged['evlu_pfls_amt_b'].astype(float)][['pdno', 'evlu_pfls_amt_a']]\n",
    "\n",
    "df_max_profit_for_update\n"
   ]
  },
  {
   "cell_type": "code",
   "execution_count": 65,
   "metadata": {},
   "outputs": [],
   "source": [
    "data = { 'amount':[ 100000, 200000, 400000, 700000, 1100000, 1600000, 2000000, 3000000, 5000000, 10000000, 9999999999], \n",
    "        'buy_ratio': [0, 50, 40, 30, 20, 20, 20, 20, 20, 30, 30]}\n",
    "df_up_buy_table = pd.DataFrame(data)\n",
    "\n",
    "def get_tier_ratio( amount, tier_t ):\n",
    "\n",
    "        for index, row in tier_t.iterrows():\n",
    "                \n",
    "                # print(index)\n",
    "                tier = row['amount']\n",
    "                ratio = row['buy_ratio']\n",
    "                # print(f'in get_tier_ratio() : {tier}, {ratio}, {amount}')\n",
    "\n",
    "                if (tier >= amount):\n",
    "                        return ratio , index +1\n",
    "        \n",
    "        return 0"
   ]
  },
  {
   "cell_type": "code",
   "execution_count": null,
   "metadata": {},
   "outputs": [],
   "source": [
    "def get_tier_ratio_wrapper( row, tier_t ):\n",
    "\n",
    "        for index, row in tier_t.iterrows():\n",
    "                \n",
    "                return get_tier_ratio(row['evlu_pfls_amt_a'], tier_t)\n",
    "        "
   ]
  },
  {
   "cell_type": "code",
   "execution_count": 74,
   "metadata": {},
   "outputs": [
    {
     "ename": "TypeError",
     "evalue": "Series.apply() missing 1 required positional argument: 'func'",
     "output_type": "error",
     "traceback": [
      "\u001b[0;31m---------------------------------------------------------------------------\u001b[0m",
      "\u001b[0;31mTypeError\u001b[0m                                 Traceback (most recent call last)",
      "Cell \u001b[0;32mIn[74], line 1\u001b[0m\n\u001b[0;32m----> 1\u001b[0m \u001b[38;5;28;43mtype\u001b[39;49m\u001b[43m(\u001b[49m\u001b[43mdf_merged\u001b[49m\u001b[43m[\u001b[49m\u001b[38;5;124;43m'\u001b[39;49m\u001b[38;5;124;43mevlu_pfls_amt_a\u001b[39;49m\u001b[38;5;124;43m'\u001b[39;49m\u001b[43m]\u001b[49m\u001b[38;5;241;43m.\u001b[39;49m\u001b[43mapply\u001b[49m\u001b[43m(\u001b[49m\u001b[38;5;28;43;01mlambda\u001b[39;49;00m\u001b[43m \u001b[49m\u001b[43mx\u001b[49m\u001b[43m \u001b[49m\u001b[43m:\u001b[49m\u001b[43m \u001b[49m\u001b[43mget_tier_ratio\u001b[49m\u001b[43m(\u001b[49m\u001b[43mx\u001b[49m\u001b[43m,\u001b[49m\u001b[43m \u001b[49m\u001b[43mdf_up_buy_table\u001b[49m\u001b[43m)\u001b[49m\u001b[43m)\u001b[49m\u001b[43m)\u001b[49m\u001b[38;5;241;43m.\u001b[39;49m\u001b[43mapply\u001b[49m\u001b[43m(\u001b[49m\u001b[38;5;28;43;01mlambda\u001b[39;49;00m\u001b[43m \u001b[49m\u001b[43mx\u001b[49m\u001b[43m:\u001b[49m\u001b[43m \u001b[49m\u001b[43mx\u001b[49m\u001b[43m[\u001b[49m\u001b[38;5;241;43m1\u001b[39;49m\u001b[43m]\u001b[49m\u001b[43m)\u001b[49m\u001b[38;5;241m.\u001b[39mtolist()\n",
      "\u001b[0;31mTypeError\u001b[0m: Series.apply() missing 1 required positional argument: 'func'"
     ]
    }
   ],
   "source": [
    "type(df_merged['evlu_pfls_amt_a'].apply(lambda x : get_tier_ratio(x, df_up_buy_table)))\n"
   ]
  },
  {
   "cell_type": "code",
   "execution_count": 86,
   "metadata": {},
   "outputs": [
    {
     "data": {
      "text/html": [
       "<div>\n",
       "<style scoped>\n",
       "    .dataframe tbody tr th:only-of-type {\n",
       "        vertical-align: middle;\n",
       "    }\n",
       "\n",
       "    .dataframe tbody tr th {\n",
       "        vertical-align: top;\n",
       "    }\n",
       "\n",
       "    .dataframe thead th {\n",
       "        text-align: right;\n",
       "    }\n",
       "</style>\n",
       "<table border=\"1\" class=\"dataframe\">\n",
       "  <thead>\n",
       "    <tr style=\"text-align: right;\">\n",
       "      <th></th>\n",
       "      <th>pdno</th>\n",
       "      <th>prdt_name_a</th>\n",
       "      <th>init_dt_a</th>\n",
       "      <th>prpr_a</th>\n",
       "      <th>evlu_amt_a</th>\n",
       "      <th>evlu_pfls_amt_a</th>\n",
       "      <th>evlu_pfls_rt_a</th>\n",
       "      <th>prdt_name_b</th>\n",
       "      <th>init_dt_b</th>\n",
       "      <th>prpr_b</th>\n",
       "      <th>evlu_amt_b</th>\n",
       "      <th>evlu_pfls_amt_b</th>\n",
       "      <th>evlu_pfls_rt_b</th>\n",
       "      <th>profit_index_a</th>\n",
       "      <th>profit_index_b</th>\n",
       "      <th>buy_on_up_flag</th>\n",
       "    </tr>\n",
       "  </thead>\n",
       "  <tbody>\n",
       "    <tr>\n",
       "      <th>0</th>\n",
       "      <td>005930</td>\n",
       "      <td>삼성전자</td>\n",
       "      <td>2024-12-30</td>\n",
       "      <td>53500</td>\n",
       "      <td>642000</td>\n",
       "      <td>100001</td>\n",
       "      <td>-2.90</td>\n",
       "      <td>삼성전자</td>\n",
       "      <td>2024-12-30</td>\n",
       "      <td>53500</td>\n",
       "      <td>642000</td>\n",
       "      <td>0</td>\n",
       "      <td>-2.90</td>\n",
       "      <td>2</td>\n",
       "      <td>1</td>\n",
       "      <td>True</td>\n",
       "    </tr>\n",
       "    <tr>\n",
       "      <th>1</th>\n",
       "      <td>071050</td>\n",
       "      <td>한국금융지주</td>\n",
       "      <td>2024-12-30</td>\n",
       "      <td>71800</td>\n",
       "      <td>502600</td>\n",
       "      <td>400001</td>\n",
       "      <td>1.84</td>\n",
       "      <td>한국금융지주</td>\n",
       "      <td>2024-12-30</td>\n",
       "      <td>71800</td>\n",
       "      <td>502600</td>\n",
       "      <td>9800</td>\n",
       "      <td>1.84</td>\n",
       "      <td>4</td>\n",
       "      <td>1</td>\n",
       "      <td>True</td>\n",
       "    </tr>\n",
       "    <tr>\n",
       "      <th>2</th>\n",
       "      <td>360200</td>\n",
       "      <td>ACE 미국S&amp;P500</td>\n",
       "      <td>2024-12-30</td>\n",
       "      <td>22105</td>\n",
       "      <td>22105</td>\n",
       "      <td>2000001</td>\n",
       "      <td>0.98</td>\n",
       "      <td>ACE 미국S&amp;P500</td>\n",
       "      <td>2024-12-30</td>\n",
       "      <td>22105</td>\n",
       "      <td>22105</td>\n",
       "      <td>220</td>\n",
       "      <td>0.98</td>\n",
       "      <td>8</td>\n",
       "      <td>1</td>\n",
       "      <td>True</td>\n",
       "    </tr>\n",
       "  </tbody>\n",
       "</table>\n",
       "</div>"
      ],
      "text/plain": [
       "     pdno   prdt_name_a   init_dt_a prpr_a evlu_amt_a evlu_pfls_amt_a  \\\n",
       "0  005930          삼성전자  2024-12-30  53500     642000          100001   \n",
       "1  071050        한국금융지주  2024-12-30  71800     502600          400001   \n",
       "2  360200  ACE 미국S&P500  2024-12-30  22105      22105         2000001   \n",
       "\n",
       "  evlu_pfls_rt_a   prdt_name_b   init_dt_b prpr_b evlu_amt_b evlu_pfls_amt_b  \\\n",
       "0          -2.90          삼성전자  2024-12-30  53500     642000               0   \n",
       "1           1.84        한국금융지주  2024-12-30  71800     502600            9800   \n",
       "2           0.98  ACE 미국S&P500  2024-12-30  22105      22105             220   \n",
       "\n",
       "  evlu_pfls_rt_b  profit_index_a  profit_index_b  buy_on_up_flag  \n",
       "0          -2.90               2               1            True  \n",
       "1           1.84               4               1            True  \n",
       "2           0.98               8               1            True  "
      ]
     },
     "execution_count": 86,
     "metadata": {},
     "output_type": "execute_result"
    }
   ],
   "source": [
    "df_merged['profit_index_a'] = df_merged['evlu_pfls_amt_a'].apply(lambda x : get_tier_ratio(x, df_up_buy_table)).apply(lambda x: x[1]).tolist()\n",
    "df_merged['profit_index_b'] = df_merged['evlu_pfls_amt_b'].apply(lambda x : get_tier_ratio(x, df_up_buy_table)).apply(lambda x: x[1]).tolist()\n",
    "df_merged['buy_on_up_flag'] = df_merged['profit_index_a'] > df_merged['profit_index_b']\n",
    "df_merged"
   ]
  },
  {
   "cell_type": "code",
   "execution_count": 10,
   "metadata": {},
   "outputs": [],
   "source": [
    "def send_message(msg):\n",
    "    \"\"\"디스코드 메세지 전송\"\"\"\n",
    "    now = datetime.datetime.now()\n",
    "    message = {\"content\": f\"[{now.strftime('%b.%d %H:%M')}] {str(msg)}\"}\n",
    "    requests.post(shared_vars.DISCORD_WEBHOOK_URL, data=message)\n",
    "    print(message)"
   ]
  },
  {
   "cell_type": "code",
   "execution_count": 12,
   "metadata": {},
   "outputs": [],
   "source": [
    "def update_holding_stock_details():\n",
    "    send_message(f\"[최대 이익금액 업데이트]\")\n",
    "    \"\"\"주식 잔고조회\"\"\"\n",
    "    PATH = \"uapi/domestic-stock/v1/trading/inquire-balance\"\n",
    "    URL = f\"{shared_vars.URL_BASE}/{PATH}\"\n",
    "    headers = {\"Content-Type\":\"application/json\", \n",
    "        \"authorization\":f\"Bearer {shared_vars.ACCESS_TOKEN}\",\n",
    "        \"appKey\":shared_vars.APP_KEY,\n",
    "        \"appSecret\":shared_vars.APP_SECRET,\n",
    "        \"tr_id\":\"TTTC8434R\",\n",
    "        \"custtype\":\"P\",\n",
    "    }    \n",
    "    params = {\n",
    "        \"CANO\": shared_vars.CANO,\n",
    "        \"ACNT_PRDT_CD\": shared_vars.ACNT_PRDT_CD,\n",
    "        \"AFHR_FLPR_YN\": \"N\",\n",
    "        \"OFL_YN\": \"\",\n",
    "        \"INQR_DVSN\": \"02\",\n",
    "        \"UNPR_DVSN\": \"01\",\n",
    "        \"FUND_STTL_ICLD_YN\": \"N\",\n",
    "        \"FNCG_AMT_AUTO_RDPT_YN\": \"N\",\n",
    "        \"PRCS_DVSN\": \"01\",\n",
    "        \"CTX_AREA_FK100\": \"\",\n",
    "        \"CTX_AREA_NK100\": \"\"\n",
    "    }\n",
    "    res = requests.get(URL, headers=headers, params=params)\n",
    "    curr_account_stock_list = res.json()['output1']    \n",
    "    df_curr_account_stock = pd.DataFrame(curr_account_stock_list)\n",
    "    df_curr_account_stock = df_curr_account_stock[['pdno','prdt_name','prpr','evlu_amt','evlu_pfls_amt','evlu_pfls_rt']]\n",
    "\n",
    "    # Test code\n",
    "    df_curr_account_stock = df_holding_stock_details2 \n",
    "    # Test Code\n",
    "\n",
    "    # df_curr_account_stock.loc[df_curr_account_stock.pdno == '005930','evlu_pfls_amt'] = -30006\n",
    "    # df_curr_account_stock.loc[df_curr_account_stock.pdno == '071050','evlu_pfls_amt'] = -30002\n",
    "    # print(f'df_curr_account_stock : {df_curr_account_stock}')\n",
    "\n",
    "    holding_stock_tbl_col_list= ['pdno','prdt_name','init_dt','prpr','evlu_amt','evlu_pfls_amt','evlu_pfls_rt']\n",
    "\n",
    "    df_update_stock_list = pd.DataFrame(columns=holding_stock_tbl_col_list)\n",
    "    df_update_stock_list_empty = df_update_stock_list  \n",
    "\n",
    "    # 계좌에 주식이 없으면 빈 데이터프레임 리턴하고 종료 \n",
    "    if len(df_curr_account_stock) == 0:\n",
    "        return df_update_stock_list\n",
    "\n",
    "    try: \n",
    "        #DB 에서 보유 주식의 최고 수익율, 수익금액 조회 \n",
    "        engine, con, mycursor = db_conn()\n",
    "        sql = \"select * from holding_stock_details\"\n",
    "        mycursor.execute(sql)\n",
    "        result = mycursor.fetchall()\n",
    "        con.close()\n",
    "        df_holding_stock_details = pd.DataFrame(result)\n",
    "    except Exception as e: \n",
    "        \n",
    "        if e.args[0] == 1146:\n",
    "            print('Table does not exist')\n",
    "            \n",
    "            df_curr_account_stock['init_dt'] = date.today()\n",
    "            df_curr_account_stock = df_curr_account_stock[holding_stock_tbl_col_list]\n",
    "            engine, con, mycursor = db_conn()\n",
    "            df_curr_account_stock.to_sql(name = 'holding_stock_details', con=engine, if_exists='replace', index=False)\n",
    "            con.close()\n",
    "            df_update_stock_list = df_curr_account_stock\n",
    "            send_message(f\"[최대 이익금액 업데이트] {len(df_update_stock_list)} 종목 업데이트 됨\")\n",
    "\n",
    "            return df_update_stock_list_empty\n",
    "\n",
    "    df_merged = df_curr_account_stock.merge(df_holding_stock_details,how='outer', on='pdno', suffixes=('_a', '_b'))\n",
    "\n",
    "    df_merged['profit_index_a'] = df_merged['evlu_pfls_amt_a'].apply(lambda x : get_tier_ratio(x, df_up_buy_table)).apply(lambda x: x[1]).tolist()\n",
    "    df_merged['profit_index_b'] = df_merged['evlu_pfls_amt_b'].apply(lambda x : get_tier_ratio(x, df_up_buy_table)).apply(lambda x: x[1]).tolist()\n",
    "    df_merged['buy_on_up_flag'] = df_merged['profit_index_a'] > df_merged['profit_index_b']\n",
    "\n",
    "    # print(f'merged : {df_merged}')\n",
    "    # print(f'df_curr_account_stock desc : {df_curr_account_stock.dtypes}')\n",
    "    # print(f'df_holding_stock_details desc : {df_holding_stock_details.dtypes}')\n",
    "    print(f'merged desc : {df_merged.dtypes}')\n",
    "\n",
    "    # 현재가 기준 이익 금액이 holding_stock_details 테이블의 이익금액 보다 큰 종목과 이익금액 조회\n",
    "    df_max_profit_for_update = df_merged[df_merged['evlu_pfls_amt_a'].astype(float) > df_merged['evlu_pfls_amt_b'].astype(float)][['pdno', 'evlu_pfls_amt_a', 'buy_on_up_flag']]\n",
    "\n",
    "    df_max_profit_for_update\n",
    "\n",
    "    # 결과 출력\n",
    "    print(f'df_max_profit_for_update: {df_max_profit_for_update}')\n",
    "\n",
    "    engine, con, mycursor = db_conn()\n",
    "    # 개별 종목의 holding_stock_details 의 최고 수익 금액 필드 업데이트 \n",
    "    for index in df_max_profit_for_update.index:\n",
    "        print(f'for {index} index')\n",
    "        sql = \"\"\"\n",
    "        UPDATE holding_stock_details\n",
    "        SET evlu_pfls_amt = %s\n",
    "        WHERE pdno = %s\n",
    "        \"\"\"\n",
    "        \n",
    "        # 업데이트할 값\n",
    "        evlu_pfls_amt = df_max_profit_for_update.loc[index, 'evlu_pfls_amt_a']\n",
    "        pdno = df_max_profit_for_update.loc[index, 'pdno']\n",
    "        \n",
    "        # print(sql % (evlu_pfls_amt, pdno))\n",
    "        # 쿼리 실행\n",
    "        mycursor.execute(sql, (evlu_pfls_amt, pdno))\n",
    "        \n",
    "        # 변경 사항 커밋\n",
    "        con.commit()\n",
    "    con.close()\n",
    "\n",
    "    print(f'len(df_max_profit_for_update) : {len(df_max_profit_for_update)}')\n",
    "\n",
    "    # 최대이익 증가 종목에 대해 init_dt 오늘자로 update\n",
    "    if len(df_max_profit_for_update) > 0: \n",
    "        df_update_stock_list = df_curr_account_stock[df_curr_account_stock['pdno'].isin(df_max_profit_for_update.pdno)]\n",
    "        df_update_stock_list.loc[:,'init_dt'] = date.today()\n",
    "        df_update_stock_list.loc[:,'buy_on_up_flag'] = df_max_profit_for_update['buy_on_up_flag']\n",
    "        df_update_stock_list = df_update_stock_list[holding_stock_tbl_col_list]\n",
    "        print(f'df_update_stock_list : {df_update_stock_list}')\n",
    "\n",
    "    # 신규 편입된 종목에 대해서 holding_stock_details 에 레코드 insert\n",
    "    for stock_code in df_merged[df_merged['evlu_pfls_amt_b'].isna()].pdno  :\n",
    "        print(stock_code)\n",
    "        dt_temp = df_curr_account_stock[df_curr_account_stock.pdno == stock_code]\n",
    "        dt_temp.loc[:,'init_dt'] = date.today()\n",
    "        dt_temp = dt_temp[holding_stock_tbl_col_list]\n",
    "        engine, con, mycursor = db_conn()\n",
    "        dt_temp.to_sql(name = 'holding_stock_details', con=engine, if_exists='append', index=False)\n",
    "        con.close()\n",
    "\n",
    "        df_update_stock_list = pd.concat([df_update_stock_list,dt_temp] )\n",
    "\n",
    "    print(f'df_update_stock_list : {df_update_stock_list}')\n",
    "    \n",
    "    send_message(f\"[최대 이익금액 업데이트] {len(df_update_stock_list)} 종목 업데이트 됨\")\n",
    "    \n",
    "    return df_update_stock_list\n",
    "\n",
    "# 기간별 주식 수익률 & 수익률 표준편차 계산 함수\n",
    "def get_stock_return(stock_code, start_date, end_date):\n",
    "\n",
    "    engine, con, mycursor = db_conn() \n",
    "\n",
    "    query = f\"\"\"\n",
    "        SELECT code, date, close\n",
    "        FROM kr_stock_price\n",
    "        WHERE code = '{stock_code}' AND Date BETWEEN STR_TO_DATE('{start_date}', '%Y%m%d') AND STR_TO_DATE('{end_date}', '%Y%m%d')\n",
    "    \"\"\"\n",
    "    mycursor.execute(query)\n",
    "    result = mycursor.fetchall()\n",
    "    df_stock_price = pd.DataFrame(result)\n",
    "    con.close()    \n",
    "\n",
    "    if df_stock_price.empty:\n",
    "        return {\n",
    "            'code': stock_code,\n",
    "            'start_date': start_date,\n",
    "            'end_date': end_date,\n",
    "            'ret': None,\n",
    "            'daily_std': None\n",
    "        }\n",
    "\n",
    "    # 날짜 순으로 정렬\n",
    "    df_stock_price.sort_values('date', inplace=True)\n",
    "\n",
    "    # 상승률 계산\n",
    "    start_price = df_stock_price.iloc[0]['close']\n",
    "    end_price = df_stock_price.iloc[-1]['close']\n",
    "    price_change_rate = ((end_price - start_price) / start_price) * 100\n",
    "\n",
    "    # 일별 주가 변동 표준편차 계산\n",
    "    daily_price_std = df_stock_price['close'].pct_change().std()\n",
    "\n",
    "    return {\n",
    "        'code': stock_code,\n",
    "        'start_date': start_date,\n",
    "        'end_date': end_date,\n",
    "        'ret': round(price_change_rate, 4),\n",
    "        'daily_std': round(daily_price_std, 5)\n",
    "    }\n",
    "\n",
    "def get_tier_ratio( amount, tier_t ):\n",
    "\n",
    "        for index, row in tier_t.iterrows():\n",
    "                \n",
    "                # print(index)\n",
    "                tier = row['amount']\n",
    "                ratio = row['buy_ratio']\n",
    "                # print(f'in get_tier_ratio() : {tier}, {ratio}, {amount}')\n",
    "\n",
    "                if (int(tier) >= int(amount)):\n",
    "                        return ratio , index +1\n",
    "        \n",
    "        return 0\n",
    "                \n",
    "def buy_on_profit(stock_for_update, up_buy_t):\n",
    "\n",
    "        buy_count = 0\n",
    "\n",
    "        for index, row in stock_for_update.iterrows():\n",
    "                print(f'======== ratio check ===========')\n",
    "                print(f'pdno : {row.pdno}')\n",
    "                profit_amt = row.evlu_pfls_amt\n",
    "                print(f'profit_amt: {profit_amt}')\n",
    "                ratio, index = get_tier_ratio(profit_amt, up_buy_t)\n",
    "                print(f'ratio : {ratio}')\n",
    "                print(f'index : {index}')\n",
    "                print(f'evlu_amt : {row.evlu_amt }')\n",
    "                print(f'ratio/100 : {ratio/100}')\n",
    "                buy_amt = int(int(row.evlu_amt) * (ratio/100))\n",
    "                print(f'buy amount : {buy_amt}')\n",
    "                buy_qty = buy_amt // int(row.prpr)\n",
    "                print(f'buy quantaty : {buy_qty}')\n",
    "\n",
    "                if buy(row.pdno, row.prpr, buy_qty, '00'):\n",
    "                    buy_count = buy_count + 1\n",
    "        \n",
    "        send_message(f\"[최대이익증가 매수] {buy_count} 종목 추가 매수됨\")\n",
    "        return buy_count"
   ]
  },
  {
   "cell_type": "code",
   "execution_count": 21,
   "metadata": {},
   "outputs": [],
   "source": [
    "import yaml\n",
    "\n",
    "with open('config.yaml', encoding='UTF-8') as f:\n",
    "    _cfg = yaml.load(f, Loader=yaml.FullLoader)\n",
    "APP_KEY = _cfg['APP_KEY']\n",
    "APP_SECRET = _cfg['APP_SECRET']\n",
    "ACCESS_TOKEN = \"\"\n",
    "CANO = _cfg['CANO']\n",
    "ACNT_PRDT_CD = _cfg['ACNT_PRDT_CD']\n",
    "DISCORD_WEBHOOK_URL = _cfg['DISCORD_WEBHOOK_URL']\n",
    "URL_BASE = _cfg['URL_BASE']\n",
    "HTS_ID = _cfg['HTS_ID']\n",
    "\n",
    "# 공용 변수 설정 \n",
    "shared_vars.URL_BASE = URL_BASE\n",
    "shared_vars.APP_KEY = APP_KEY\n",
    "shared_vars.APP_SECRET = APP_SECRET\n",
    "shared_vars.HTS_ID = HTS_ID\n",
    "shared_vars.DISCORD_WEBHOOK_URL = DISCORD_WEBHOOK_URL\n",
    "shared_vars.CANO = CANO\n",
    "shared_vars.ACNT_PRDT_CD = ACNT_PRDT_CD"
   ]
  },
  {
   "cell_type": "code",
   "execution_count": null,
   "metadata": {},
   "outputs": [],
   "source": []
  },
  {
   "cell_type": "code",
   "execution_count": null,
   "metadata": {},
   "outputs": [],
   "source": []
  },
  {
   "cell_type": "code",
   "execution_count": null,
   "metadata": {},
   "outputs": [],
   "source": []
  },
  {
   "cell_type": "code",
   "execution_count": 22,
   "metadata": {},
   "outputs": [
    {
     "name": "stdout",
     "output_type": "stream",
     "text": [
      "{'content': '[Jan.02 20:02] [최대 이익금액 업데이트]'}\n"
     ]
    },
    {
     "ename": "KeyError",
     "evalue": "'output1'",
     "output_type": "error",
     "traceback": [
      "\u001b[0;31m---------------------------------------------------------------------------\u001b[0m",
      "\u001b[0;31mKeyError\u001b[0m                                  Traceback (most recent call last)",
      "Cell \u001b[0;32mIn[22], line 1\u001b[0m\n\u001b[0;32m----> 1\u001b[0m df_return \u001b[38;5;241m=\u001b[39m \u001b[43mupdate_holding_stock_details\u001b[49m\u001b[43m(\u001b[49m\u001b[43m)\u001b[49m\n",
      "Cell \u001b[0;32mIn[12], line 27\u001b[0m, in \u001b[0;36mupdate_holding_stock_details\u001b[0;34m()\u001b[0m\n\u001b[1;32m     13\u001b[0m params \u001b[38;5;241m=\u001b[39m {\n\u001b[1;32m     14\u001b[0m     \u001b[38;5;124m\"\u001b[39m\u001b[38;5;124mCANO\u001b[39m\u001b[38;5;124m\"\u001b[39m: shared_vars\u001b[38;5;241m.\u001b[39mCANO,\n\u001b[1;32m     15\u001b[0m     \u001b[38;5;124m\"\u001b[39m\u001b[38;5;124mACNT_PRDT_CD\u001b[39m\u001b[38;5;124m\"\u001b[39m: shared_vars\u001b[38;5;241m.\u001b[39mACNT_PRDT_CD,\n\u001b[0;32m   (...)\u001b[0m\n\u001b[1;32m     24\u001b[0m     \u001b[38;5;124m\"\u001b[39m\u001b[38;5;124mCTX_AREA_NK100\u001b[39m\u001b[38;5;124m\"\u001b[39m: \u001b[38;5;124m\"\u001b[39m\u001b[38;5;124m\"\u001b[39m\n\u001b[1;32m     25\u001b[0m }\n\u001b[1;32m     26\u001b[0m res \u001b[38;5;241m=\u001b[39m requests\u001b[38;5;241m.\u001b[39mget(URL, headers\u001b[38;5;241m=\u001b[39mheaders, params\u001b[38;5;241m=\u001b[39mparams)\n\u001b[0;32m---> 27\u001b[0m curr_account_stock_list \u001b[38;5;241m=\u001b[39m \u001b[43mres\u001b[49m\u001b[38;5;241;43m.\u001b[39;49m\u001b[43mjson\u001b[49m\u001b[43m(\u001b[49m\u001b[43m)\u001b[49m\u001b[43m[\u001b[49m\u001b[38;5;124;43m'\u001b[39;49m\u001b[38;5;124;43moutput1\u001b[39;49m\u001b[38;5;124;43m'\u001b[39;49m\u001b[43m]\u001b[49m    \n\u001b[1;32m     28\u001b[0m df_curr_account_stock \u001b[38;5;241m=\u001b[39m pd\u001b[38;5;241m.\u001b[39mDataFrame(curr_account_stock_list)\n\u001b[1;32m     29\u001b[0m df_curr_account_stock \u001b[38;5;241m=\u001b[39m df_curr_account_stock[[\u001b[38;5;124m'\u001b[39m\u001b[38;5;124mpdno\u001b[39m\u001b[38;5;124m'\u001b[39m,\u001b[38;5;124m'\u001b[39m\u001b[38;5;124mprdt_name\u001b[39m\u001b[38;5;124m'\u001b[39m,\u001b[38;5;124m'\u001b[39m\u001b[38;5;124mprpr\u001b[39m\u001b[38;5;124m'\u001b[39m,\u001b[38;5;124m'\u001b[39m\u001b[38;5;124mevlu_amt\u001b[39m\u001b[38;5;124m'\u001b[39m,\u001b[38;5;124m'\u001b[39m\u001b[38;5;124mevlu_pfls_amt\u001b[39m\u001b[38;5;124m'\u001b[39m,\u001b[38;5;124m'\u001b[39m\u001b[38;5;124mevlu_pfls_rt\u001b[39m\u001b[38;5;124m'\u001b[39m]]\n",
      "\u001b[0;31mKeyError\u001b[0m: 'output1'"
     ]
    }
   ],
   "source": [
    "df_return = update_holding_stock_details()"
   ]
  },
  {
   "cell_type": "code",
   "execution_count": null,
   "metadata": {},
   "outputs": [],
   "source": []
  },
  {
   "cell_type": "code",
   "execution_count": null,
   "metadata": {},
   "outputs": [],
   "source": []
  },
  {
   "cell_type": "code",
   "execution_count": null,
   "metadata": {},
   "outputs": [],
   "source": []
  },
  {
   "cell_type": "code",
   "execution_count": null,
   "metadata": {},
   "outputs": [],
   "source": []
  },
  {
   "cell_type": "code",
   "execution_count": null,
   "metadata": {},
   "outputs": [],
   "source": []
  },
  {
   "cell_type": "code",
   "execution_count": null,
   "metadata": {},
   "outputs": [],
   "source": []
  },
  {
   "cell_type": "code",
   "execution_count": null,
   "metadata": {},
   "outputs": [],
   "source": []
  },
  {
   "cell_type": "code",
   "execution_count": null,
   "metadata": {},
   "outputs": [],
   "source": []
  },
  {
   "cell_type": "code",
   "execution_count": 82,
   "metadata": {},
   "outputs": [
    {
     "data": {
      "text/plain": [
       "True"
      ]
     },
     "execution_count": 82,
     "metadata": {},
     "output_type": "execute_result"
    }
   ],
   "source": [
    "a_list > b_list"
   ]
  },
  {
   "cell_type": "code",
   "execution_count": null,
   "metadata": {},
   "outputs": [],
   "source": []
  },
  {
   "cell_type": "code",
   "execution_count": 77,
   "metadata": {},
   "outputs": [
    {
     "ename": "TypeError",
     "evalue": "'>=' not supported between instances of 'numpy.ndarray' and 'str'",
     "output_type": "error",
     "traceback": [
      "\u001b[0;31m---------------------------------------------------------------------------\u001b[0m",
      "\u001b[0;31mTypeError\u001b[0m                                 Traceback (most recent call last)",
      "Cell \u001b[0;32mIn[77], line 1\u001b[0m\n\u001b[0;32m----> 1\u001b[0m \u001b[43mdf_merged\u001b[49m\u001b[43m[\u001b[49m\u001b[38;5;124;43m'\u001b[39;49m\u001b[38;5;124;43mevlu_pfls_amt_b\u001b[39;49m\u001b[38;5;124;43m'\u001b[39;49m\u001b[43m]\u001b[49m\u001b[38;5;241;43m.\u001b[39;49m\u001b[43mapply\u001b[49m\u001b[43m(\u001b[49m\u001b[38;5;28;43;01mlambda\u001b[39;49;00m\u001b[43m \u001b[49m\u001b[43mx\u001b[49m\u001b[43m \u001b[49m\u001b[43m:\u001b[49m\u001b[43m \u001b[49m\u001b[43mget_tier_ratio\u001b[49m\u001b[43m(\u001b[49m\u001b[43mx\u001b[49m\u001b[43m,\u001b[49m\u001b[43m \u001b[49m\u001b[43mdf_up_buy_table\u001b[49m\u001b[43m)\u001b[49m\u001b[43m)\u001b[49m\n",
      "File \u001b[0;32m/opt/anaconda3/envs/quant/lib/python3.11/site-packages/pandas/core/series.py:4924\u001b[0m, in \u001b[0;36mSeries.apply\u001b[0;34m(self, func, convert_dtype, args, by_row, **kwargs)\u001b[0m\n\u001b[1;32m   4789\u001b[0m \u001b[38;5;28;01mdef\u001b[39;00m \u001b[38;5;21mapply\u001b[39m(\n\u001b[1;32m   4790\u001b[0m     \u001b[38;5;28mself\u001b[39m,\n\u001b[1;32m   4791\u001b[0m     func: AggFuncType,\n\u001b[0;32m   (...)\u001b[0m\n\u001b[1;32m   4796\u001b[0m     \u001b[38;5;241m*\u001b[39m\u001b[38;5;241m*\u001b[39mkwargs,\n\u001b[1;32m   4797\u001b[0m ) \u001b[38;5;241m-\u001b[39m\u001b[38;5;241m>\u001b[39m DataFrame \u001b[38;5;241m|\u001b[39m Series:\n\u001b[1;32m   4798\u001b[0m \u001b[38;5;250m    \u001b[39m\u001b[38;5;124;03m\"\"\"\u001b[39;00m\n\u001b[1;32m   4799\u001b[0m \u001b[38;5;124;03m    Invoke function on values of Series.\u001b[39;00m\n\u001b[1;32m   4800\u001b[0m \n\u001b[0;32m   (...)\u001b[0m\n\u001b[1;32m   4915\u001b[0m \u001b[38;5;124;03m    dtype: float64\u001b[39;00m\n\u001b[1;32m   4916\u001b[0m \u001b[38;5;124;03m    \"\"\"\u001b[39;00m\n\u001b[1;32m   4917\u001b[0m     \u001b[38;5;28;01mreturn\u001b[39;00m \u001b[43mSeriesApply\u001b[49m\u001b[43m(\u001b[49m\n\u001b[1;32m   4918\u001b[0m \u001b[43m        \u001b[49m\u001b[38;5;28;43mself\u001b[39;49m\u001b[43m,\u001b[49m\n\u001b[1;32m   4919\u001b[0m \u001b[43m        \u001b[49m\u001b[43mfunc\u001b[49m\u001b[43m,\u001b[49m\n\u001b[1;32m   4920\u001b[0m \u001b[43m        \u001b[49m\u001b[43mconvert_dtype\u001b[49m\u001b[38;5;241;43m=\u001b[39;49m\u001b[43mconvert_dtype\u001b[49m\u001b[43m,\u001b[49m\n\u001b[1;32m   4921\u001b[0m \u001b[43m        \u001b[49m\u001b[43mby_row\u001b[49m\u001b[38;5;241;43m=\u001b[39;49m\u001b[43mby_row\u001b[49m\u001b[43m,\u001b[49m\n\u001b[1;32m   4922\u001b[0m \u001b[43m        \u001b[49m\u001b[43margs\u001b[49m\u001b[38;5;241;43m=\u001b[39;49m\u001b[43margs\u001b[49m\u001b[43m,\u001b[49m\n\u001b[1;32m   4923\u001b[0m \u001b[43m        \u001b[49m\u001b[43mkwargs\u001b[49m\u001b[38;5;241;43m=\u001b[39;49m\u001b[43mkwargs\u001b[49m\u001b[43m,\u001b[49m\n\u001b[0;32m-> 4924\u001b[0m \u001b[43m    \u001b[49m\u001b[43m)\u001b[49m\u001b[38;5;241;43m.\u001b[39;49m\u001b[43mapply\u001b[49m\u001b[43m(\u001b[49m\u001b[43m)\u001b[49m\n",
      "File \u001b[0;32m/opt/anaconda3/envs/quant/lib/python3.11/site-packages/pandas/core/apply.py:1427\u001b[0m, in \u001b[0;36mSeriesApply.apply\u001b[0;34m(self)\u001b[0m\n\u001b[1;32m   1424\u001b[0m     \u001b[38;5;28;01mreturn\u001b[39;00m \u001b[38;5;28mself\u001b[39m\u001b[38;5;241m.\u001b[39mapply_compat()\n\u001b[1;32m   1426\u001b[0m \u001b[38;5;66;03m# self.func is Callable\u001b[39;00m\n\u001b[0;32m-> 1427\u001b[0m \u001b[38;5;28;01mreturn\u001b[39;00m \u001b[38;5;28;43mself\u001b[39;49m\u001b[38;5;241;43m.\u001b[39;49m\u001b[43mapply_standard\u001b[49m\u001b[43m(\u001b[49m\u001b[43m)\u001b[49m\n",
      "File \u001b[0;32m/opt/anaconda3/envs/quant/lib/python3.11/site-packages/pandas/core/apply.py:1507\u001b[0m, in \u001b[0;36mSeriesApply.apply_standard\u001b[0;34m(self)\u001b[0m\n\u001b[1;32m   1501\u001b[0m \u001b[38;5;66;03m# row-wise access\u001b[39;00m\n\u001b[1;32m   1502\u001b[0m \u001b[38;5;66;03m# apply doesn't have a `na_action` keyword and for backward compat reasons\u001b[39;00m\n\u001b[1;32m   1503\u001b[0m \u001b[38;5;66;03m# we need to give `na_action=\"ignore\"` for categorical data.\u001b[39;00m\n\u001b[1;32m   1504\u001b[0m \u001b[38;5;66;03m# TODO: remove the `na_action=\"ignore\"` when that default has been changed in\u001b[39;00m\n\u001b[1;32m   1505\u001b[0m \u001b[38;5;66;03m#  Categorical (GH51645).\u001b[39;00m\n\u001b[1;32m   1506\u001b[0m action \u001b[38;5;241m=\u001b[39m \u001b[38;5;124m\"\u001b[39m\u001b[38;5;124mignore\u001b[39m\u001b[38;5;124m\"\u001b[39m \u001b[38;5;28;01mif\u001b[39;00m \u001b[38;5;28misinstance\u001b[39m(obj\u001b[38;5;241m.\u001b[39mdtype, CategoricalDtype) \u001b[38;5;28;01melse\u001b[39;00m \u001b[38;5;28;01mNone\u001b[39;00m\n\u001b[0;32m-> 1507\u001b[0m mapped \u001b[38;5;241m=\u001b[39m \u001b[43mobj\u001b[49m\u001b[38;5;241;43m.\u001b[39;49m\u001b[43m_map_values\u001b[49m\u001b[43m(\u001b[49m\n\u001b[1;32m   1508\u001b[0m \u001b[43m    \u001b[49m\u001b[43mmapper\u001b[49m\u001b[38;5;241;43m=\u001b[39;49m\u001b[43mcurried\u001b[49m\u001b[43m,\u001b[49m\u001b[43m \u001b[49m\u001b[43mna_action\u001b[49m\u001b[38;5;241;43m=\u001b[39;49m\u001b[43maction\u001b[49m\u001b[43m,\u001b[49m\u001b[43m \u001b[49m\u001b[43mconvert\u001b[49m\u001b[38;5;241;43m=\u001b[39;49m\u001b[38;5;28;43mself\u001b[39;49m\u001b[38;5;241;43m.\u001b[39;49m\u001b[43mconvert_dtype\u001b[49m\n\u001b[1;32m   1509\u001b[0m \u001b[43m\u001b[49m\u001b[43m)\u001b[49m\n\u001b[1;32m   1511\u001b[0m \u001b[38;5;28;01mif\u001b[39;00m \u001b[38;5;28mlen\u001b[39m(mapped) \u001b[38;5;129;01mand\u001b[39;00m \u001b[38;5;28misinstance\u001b[39m(mapped[\u001b[38;5;241m0\u001b[39m], ABCSeries):\n\u001b[1;32m   1512\u001b[0m     \u001b[38;5;66;03m# GH#43986 Need to do list(mapped) in order to get treated as nested\u001b[39;00m\n\u001b[1;32m   1513\u001b[0m     \u001b[38;5;66;03m#  See also GH#25959 regarding EA support\u001b[39;00m\n\u001b[1;32m   1514\u001b[0m     \u001b[38;5;28;01mreturn\u001b[39;00m obj\u001b[38;5;241m.\u001b[39m_constructor_expanddim(\u001b[38;5;28mlist\u001b[39m(mapped), index\u001b[38;5;241m=\u001b[39mobj\u001b[38;5;241m.\u001b[39mindex)\n",
      "File \u001b[0;32m/opt/anaconda3/envs/quant/lib/python3.11/site-packages/pandas/core/base.py:921\u001b[0m, in \u001b[0;36mIndexOpsMixin._map_values\u001b[0;34m(self, mapper, na_action, convert)\u001b[0m\n\u001b[1;32m    918\u001b[0m \u001b[38;5;28;01mif\u001b[39;00m \u001b[38;5;28misinstance\u001b[39m(arr, ExtensionArray):\n\u001b[1;32m    919\u001b[0m     \u001b[38;5;28;01mreturn\u001b[39;00m arr\u001b[38;5;241m.\u001b[39mmap(mapper, na_action\u001b[38;5;241m=\u001b[39mna_action)\n\u001b[0;32m--> 921\u001b[0m \u001b[38;5;28;01mreturn\u001b[39;00m \u001b[43malgorithms\u001b[49m\u001b[38;5;241;43m.\u001b[39;49m\u001b[43mmap_array\u001b[49m\u001b[43m(\u001b[49m\u001b[43marr\u001b[49m\u001b[43m,\u001b[49m\u001b[43m \u001b[49m\u001b[43mmapper\u001b[49m\u001b[43m,\u001b[49m\u001b[43m \u001b[49m\u001b[43mna_action\u001b[49m\u001b[38;5;241;43m=\u001b[39;49m\u001b[43mna_action\u001b[49m\u001b[43m,\u001b[49m\u001b[43m \u001b[49m\u001b[43mconvert\u001b[49m\u001b[38;5;241;43m=\u001b[39;49m\u001b[43mconvert\u001b[49m\u001b[43m)\u001b[49m\n",
      "File \u001b[0;32m/opt/anaconda3/envs/quant/lib/python3.11/site-packages/pandas/core/algorithms.py:1743\u001b[0m, in \u001b[0;36mmap_array\u001b[0;34m(arr, mapper, na_action, convert)\u001b[0m\n\u001b[1;32m   1741\u001b[0m values \u001b[38;5;241m=\u001b[39m arr\u001b[38;5;241m.\u001b[39mastype(\u001b[38;5;28mobject\u001b[39m, copy\u001b[38;5;241m=\u001b[39m\u001b[38;5;28;01mFalse\u001b[39;00m)\n\u001b[1;32m   1742\u001b[0m \u001b[38;5;28;01mif\u001b[39;00m na_action \u001b[38;5;129;01mis\u001b[39;00m \u001b[38;5;28;01mNone\u001b[39;00m:\n\u001b[0;32m-> 1743\u001b[0m     \u001b[38;5;28;01mreturn\u001b[39;00m \u001b[43mlib\u001b[49m\u001b[38;5;241;43m.\u001b[39;49m\u001b[43mmap_infer\u001b[49m\u001b[43m(\u001b[49m\u001b[43mvalues\u001b[49m\u001b[43m,\u001b[49m\u001b[43m \u001b[49m\u001b[43mmapper\u001b[49m\u001b[43m,\u001b[49m\u001b[43m \u001b[49m\u001b[43mconvert\u001b[49m\u001b[38;5;241;43m=\u001b[39;49m\u001b[43mconvert\u001b[49m\u001b[43m)\u001b[49m\n\u001b[1;32m   1744\u001b[0m \u001b[38;5;28;01melse\u001b[39;00m:\n\u001b[1;32m   1745\u001b[0m     \u001b[38;5;28;01mreturn\u001b[39;00m lib\u001b[38;5;241m.\u001b[39mmap_infer_mask(\n\u001b[1;32m   1746\u001b[0m         values, mapper, mask\u001b[38;5;241m=\u001b[39misna(values)\u001b[38;5;241m.\u001b[39mview(np\u001b[38;5;241m.\u001b[39muint8), convert\u001b[38;5;241m=\u001b[39mconvert\n\u001b[1;32m   1747\u001b[0m     )\n",
      "File \u001b[0;32mlib.pyx:2972\u001b[0m, in \u001b[0;36mpandas._libs.lib.map_infer\u001b[0;34m()\u001b[0m\n",
      "Cell \u001b[0;32mIn[77], line 1\u001b[0m, in \u001b[0;36m<lambda>\u001b[0;34m(x)\u001b[0m\n\u001b[0;32m----> 1\u001b[0m df_merged[\u001b[38;5;124m'\u001b[39m\u001b[38;5;124mevlu_pfls_amt_b\u001b[39m\u001b[38;5;124m'\u001b[39m]\u001b[38;5;241m.\u001b[39mapply(\u001b[38;5;28;01mlambda\u001b[39;00m x : \u001b[43mget_tier_ratio\u001b[49m\u001b[43m(\u001b[49m\u001b[43mx\u001b[49m\u001b[43m,\u001b[49m\u001b[43m \u001b[49m\u001b[43mdf_up_buy_table\u001b[49m\u001b[43m)\u001b[49m)\n",
      "Cell \u001b[0;32mIn[65], line 14\u001b[0m, in \u001b[0;36mget_tier_ratio\u001b[0;34m(amount, tier_t)\u001b[0m\n\u001b[1;32m     11\u001b[0m         ratio \u001b[38;5;241m=\u001b[39m row[\u001b[38;5;124m'\u001b[39m\u001b[38;5;124mbuy_ratio\u001b[39m\u001b[38;5;124m'\u001b[39m]\n\u001b[1;32m     12\u001b[0m         \u001b[38;5;66;03m# print(f'in get_tier_ratio() : {tier}, {ratio}, {amount}')\u001b[39;00m\n\u001b[0;32m---> 14\u001b[0m         \u001b[38;5;28;01mif\u001b[39;00m (\u001b[43mtier\u001b[49m\u001b[43m \u001b[49m\u001b[38;5;241;43m>\u001b[39;49m\u001b[38;5;241;43m=\u001b[39;49m\u001b[43m \u001b[49m\u001b[43mamount\u001b[49m):\n\u001b[1;32m     15\u001b[0m                 \u001b[38;5;28;01mreturn\u001b[39;00m ratio , index \u001b[38;5;241m+\u001b[39m\u001b[38;5;241m1\u001b[39m\n\u001b[1;32m     17\u001b[0m \u001b[38;5;28;01mreturn\u001b[39;00m \u001b[38;5;241m0\u001b[39m\n",
      "\u001b[0;31mTypeError\u001b[0m: '>=' not supported between instances of 'numpy.ndarray' and 'str'"
     ]
    }
   ],
   "source": [
    "df_merged['evlu_pfls_amt_b'].apply(lambda x : get_tier_ratio(x, df_up_buy_table))"
   ]
  },
  {
   "cell_type": "code",
   "execution_count": 85,
   "metadata": {},
   "outputs": [
    {
     "data": {
      "text/plain": [
       "0    (0, 1)\n",
       "1    (0, 1)\n",
       "2    (0, 1)\n",
       "Name: evlu_pfls_amt_b, dtype: object"
      ]
     },
     "execution_count": 85,
     "metadata": {},
     "output_type": "execute_result"
    }
   ],
   "source": [
    "def get_tier_ratio( amount, tier_t ):\n",
    "\n",
    "        for index, row in tier_t.iterrows():\n",
    "                \n",
    "                # print(f'index:{index}')\n",
    "                tier = row['amount']\n",
    "                ratio = row['buy_ratio']\n",
    "                # print(f'in get_tier_ratio() : {tier}, {ratio}, {amount}')\n",
    "\n",
    "                if (int(tier) >= int(amount)):\n",
    "                        return ratio , index +1\n",
    "        \n",
    "        return 0\n",
    "\n",
    "df_merged['evlu_pfls_amt_b'].apply(lambda x : get_tier_ratio(x, df_up_buy_table))"
   ]
  },
  {
   "cell_type": "code",
   "execution_count": null,
   "metadata": {},
   "outputs": [],
   "source": []
  },
  {
   "cell_type": "code",
   "execution_count": null,
   "metadata": {},
   "outputs": [],
   "source": []
  },
  {
   "cell_type": "code",
   "execution_count": null,
   "metadata": {},
   "outputs": [],
   "source": []
  },
  {
   "cell_type": "code",
   "execution_count": null,
   "metadata": {},
   "outputs": [],
   "source": []
  },
  {
   "cell_type": "code",
   "execution_count": null,
   "metadata": {},
   "outputs": [],
   "source": []
  },
  {
   "cell_type": "code",
   "execution_count": null,
   "metadata": {},
   "outputs": [],
   "source": []
  },
  {
   "cell_type": "code",
   "execution_count": null,
   "metadata": {},
   "outputs": [],
   "source": []
  },
  {
   "cell_type": "code",
   "execution_count": null,
   "metadata": {},
   "outputs": [],
   "source": []
  },
  {
   "cell_type": "code",
   "execution_count": null,
   "metadata": {},
   "outputs": [],
   "source": []
  },
  {
   "cell_type": "code",
   "execution_count": null,
   "metadata": {},
   "outputs": [],
   "source": []
  },
  {
   "cell_type": "code",
   "execution_count": null,
   "metadata": {},
   "outputs": [],
   "source": []
  },
  {
   "cell_type": "code",
   "execution_count": null,
   "metadata": {},
   "outputs": [],
   "source": []
  },
  {
   "cell_type": "code",
   "execution_count": null,
   "metadata": {},
   "outputs": [],
   "source": []
  },
  {
   "cell_type": "code",
   "execution_count": null,
   "metadata": {},
   "outputs": [],
   "source": []
  },
  {
   "cell_type": "code",
   "execution_count": null,
   "metadata": {},
   "outputs": [],
   "source": []
  },
  {
   "cell_type": "code",
   "execution_count": 55,
   "metadata": {},
   "outputs": [
    {
     "name": "stdout",
     "output_type": "stream",
     "text": [
      "======== ratio check ===========\n",
      "pdno : 005930\n",
      "profit_amt: 100001\n",
      "ratio : 50\n",
      "index : 2\n",
      "evlu_amt : 642000\n",
      "ratio/100 : 0.5\n",
      "buy amount : 321000\n",
      "buy quantaty : 6\n",
      "======== ratio check ===========\n",
      "pdno : 071050\n",
      "profit_amt: 400001\n",
      "ratio : 30\n",
      "index : 4\n",
      "evlu_amt : 502600\n",
      "ratio/100 : 0.3\n",
      "buy amount : 150780\n",
      "buy quantaty : 2\n",
      "======== ratio check ===========\n",
      "pdno : 360200\n",
      "profit_amt: 2000001\n",
      "ratio : 20\n",
      "index : 8\n",
      "evlu_amt : 22105\n",
      "ratio/100 : 0.2\n",
      "buy amount : 4421\n",
      "buy quantaty : 0\n"
     ]
    }
   ],
   "source": [
    "\n",
    "\n",
    "data = { 'amount':[ 100000, 200000, 400000, 700000, 1100000, 1600000, 2000000, 3000000, 5000000, 10000000, 9999999999], \n",
    "        'buy_ratio': [0, 50, 40, 30, 20, 20, 20, 20, 20, 30, 30]}\n",
    "df_up_buy_table = pd.DataFrame(data)\n",
    "\n",
    "def get_tier_ratio( amount, tier_t ):\n",
    "\n",
    "        for index, row in tier_t.iterrows():\n",
    "                \n",
    "                # print(index)\n",
    "                tier = row['amount']\n",
    "                ratio = row['buy_ratio']\n",
    "                # print(f'in get_tier_ratio() : {tier}, {ratio}, {amount}')\n",
    "\n",
    "                if (tier >= amount):\n",
    "                        return ratio , index +1\n",
    "        \n",
    "        return 0\n",
    "                \n",
    "def buy_on_profit(stock_for_update, up_buy_t):\n",
    "\n",
    "        for index, row in stock_for_update.iterrows():\n",
    "                print(f'======== ratio check ===========')\n",
    "                print(f'pdno : {row.pdno}')\n",
    "                profit_amt = row.evlu_pfls_amt\n",
    "                print(f'profit_amt: {profit_amt}')\n",
    "                ratio, index = get_tier_ratio(profit_amt, up_buy_t)\n",
    "                print(f'ratio : {ratio}')\n",
    "                print(f'index : {index}')\n",
    "                print(f'evlu_amt : {row.evlu_amt }')\n",
    "                print(f'ratio/100 : {ratio/100}')\n",
    "                buy_amt = int(int(row.evlu_amt) * (ratio/100))\n",
    "                print(f'buy amount : {buy_amt}')\n",
    "                buy_qty = buy_amt // int(row.prpr)\n",
    "                print(f'buy quantaty : {buy_qty}')\n",
    "                buy(row.pdno, row.prpr, buy_qty, '00')\n",
    "\n",
    "\n",
    "buy_on_profit(df_holding_stock_details, df_up_buy_table)\n",
    "\n",
    "    "
   ]
  },
  {
   "cell_type": "code",
   "execution_count": null,
   "metadata": {},
   "outputs": [],
   "source": []
  },
  {
   "cell_type": "code",
   "execution_count": null,
   "metadata": {},
   "outputs": [],
   "source": []
  },
  {
   "cell_type": "code",
   "execution_count": null,
   "metadata": {},
   "outputs": [],
   "source": []
  },
  {
   "cell_type": "code",
   "execution_count": null,
   "metadata": {},
   "outputs": [],
   "source": []
  },
  {
   "cell_type": "code",
   "execution_count": null,
   "metadata": {},
   "outputs": [],
   "source": []
  },
  {
   "cell_type": "code",
   "execution_count": null,
   "metadata": {},
   "outputs": [],
   "source": []
  },
  {
   "cell_type": "code",
   "execution_count": null,
   "metadata": {},
   "outputs": [],
   "source": []
  },
  {
   "cell_type": "code",
   "execution_count": null,
   "metadata": {},
   "outputs": [],
   "source": []
  },
  {
   "cell_type": "code",
   "execution_count": null,
   "metadata": {},
   "outputs": [],
   "source": []
  },
  {
   "cell_type": "code",
   "execution_count": null,
   "metadata": {},
   "outputs": [],
   "source": []
  },
  {
   "cell_type": "code",
   "execution_count": null,
   "metadata": {},
   "outputs": [],
   "source": []
  },
  {
   "cell_type": "code",
   "execution_count": null,
   "metadata": {},
   "outputs": [],
   "source": []
  },
  {
   "cell_type": "code",
   "execution_count": null,
   "metadata": {},
   "outputs": [],
   "source": []
  },
  {
   "cell_type": "code",
   "execution_count": null,
   "metadata": {},
   "outputs": [],
   "source": []
  },
  {
   "cell_type": "code",
   "execution_count": null,
   "metadata": {},
   "outputs": [],
   "source": []
  },
  {
   "cell_type": "code",
   "execution_count": null,
   "metadata": {},
   "outputs": [],
   "source": []
  },
  {
   "cell_type": "code",
   "execution_count": null,
   "metadata": {},
   "outputs": [],
   "source": []
  },
  {
   "cell_type": "code",
   "execution_count": null,
   "metadata": {},
   "outputs": [],
   "source": []
  },
  {
   "cell_type": "code",
   "execution_count": null,
   "metadata": {},
   "outputs": [],
   "source": []
  },
  {
   "cell_type": "code",
   "execution_count": null,
   "metadata": {},
   "outputs": [],
   "source": []
  },
  {
   "cell_type": "code",
   "execution_count": null,
   "metadata": {},
   "outputs": [],
   "source": []
  },
  {
   "cell_type": "code",
   "execution_count": null,
   "metadata": {},
   "outputs": [],
   "source": []
  },
  {
   "cell_type": "code",
   "execution_count": null,
   "metadata": {},
   "outputs": [],
   "source": []
  },
  {
   "cell_type": "code",
   "execution_count": null,
   "metadata": {},
   "outputs": [],
   "source": []
  },
  {
   "cell_type": "code",
   "execution_count": null,
   "metadata": {},
   "outputs": [],
   "source": []
  },
  {
   "cell_type": "code",
   "execution_count": null,
   "metadata": {},
   "outputs": [],
   "source": []
  },
  {
   "cell_type": "code",
   "execution_count": null,
   "metadata": {},
   "outputs": [],
   "source": []
  },
  {
   "cell_type": "code",
   "execution_count": null,
   "metadata": {},
   "outputs": [],
   "source": []
  },
  {
   "cell_type": "code",
   "execution_count": null,
   "metadata": {},
   "outputs": [],
   "source": []
  },
  {
   "cell_type": "code",
   "execution_count": null,
   "metadata": {},
   "outputs": [],
   "source": []
  },
  {
   "cell_type": "code",
   "execution_count": null,
   "metadata": {},
   "outputs": [],
   "source": []
  },
  {
   "cell_type": "code",
   "execution_count": null,
   "metadata": {},
   "outputs": [],
   "source": []
  },
  {
   "cell_type": "code",
   "execution_count": null,
   "metadata": {},
   "outputs": [],
   "source": []
  },
  {
   "cell_type": "code",
   "execution_count": 18,
   "metadata": {},
   "outputs": [
    {
     "data": {
      "text/html": [
       "<div>\n",
       "<style scoped>\n",
       "    .dataframe tbody tr th:only-of-type {\n",
       "        vertical-align: middle;\n",
       "    }\n",
       "\n",
       "    .dataframe tbody tr th {\n",
       "        vertical-align: top;\n",
       "    }\n",
       "\n",
       "    .dataframe thead th {\n",
       "        text-align: right;\n",
       "    }\n",
       "</style>\n",
       "<table border=\"1\" class=\"dataframe\">\n",
       "  <thead>\n",
       "    <tr style=\"text-align: right;\">\n",
       "      <th></th>\n",
       "      <th>amount</th>\n",
       "      <th>buy_ratio</th>\n",
       "    </tr>\n",
       "  </thead>\n",
       "  <tbody>\n",
       "    <tr>\n",
       "      <th>0</th>\n",
       "      <td>100000</td>\n",
       "      <td>25</td>\n",
       "    </tr>\n",
       "    <tr>\n",
       "      <th>1</th>\n",
       "      <td>200000</td>\n",
       "      <td>25</td>\n",
       "    </tr>\n",
       "    <tr>\n",
       "      <th>2</th>\n",
       "      <td>400000</td>\n",
       "      <td>30</td>\n",
       "    </tr>\n",
       "    <tr>\n",
       "      <th>3</th>\n",
       "      <td>700000</td>\n",
       "      <td>30</td>\n",
       "    </tr>\n",
       "    <tr>\n",
       "      <th>4</th>\n",
       "      <td>1100000</td>\n",
       "      <td>20</td>\n",
       "    </tr>\n",
       "    <tr>\n",
       "      <th>5</th>\n",
       "      <td>1600000</td>\n",
       "      <td>20</td>\n",
       "    </tr>\n",
       "    <tr>\n",
       "      <th>6</th>\n",
       "      <td>2000000</td>\n",
       "      <td>20</td>\n",
       "    </tr>\n",
       "    <tr>\n",
       "      <th>7</th>\n",
       "      <td>3000000</td>\n",
       "      <td>20</td>\n",
       "    </tr>\n",
       "    <tr>\n",
       "      <th>8</th>\n",
       "      <td>5000000</td>\n",
       "      <td>20</td>\n",
       "    </tr>\n",
       "    <tr>\n",
       "      <th>9</th>\n",
       "      <td>10000000</td>\n",
       "      <td>30</td>\n",
       "    </tr>\n",
       "  </tbody>\n",
       "</table>\n",
       "</div>"
      ],
      "text/plain": [
       "     amount  buy_ratio\n",
       "0    100000         25\n",
       "1    200000         25\n",
       "2    400000         30\n",
       "3    700000         30\n",
       "4   1100000         20\n",
       "5   1600000         20\n",
       "6   2000000         20\n",
       "7   3000000         20\n",
       "8   5000000         20\n",
       "9  10000000         30"
      ]
     },
     "execution_count": 18,
     "metadata": {},
     "output_type": "execute_result"
    }
   ],
   "source": [
    "data = { 'amount':[ 100000, 200000, 400000, 700000, 1100000, 1600000, 2000000, 3000000, 5000000, 10000000], \n",
    "        'buy_ratio': [25, 25, 30, 30, 20, 20, 20, 20, 20, 30]}\n",
    "df_up_buy_table = pd.DataFrame(data)\n",
    "df_up_buy_table\n"
   ]
  },
  {
   "cell_type": "code",
   "execution_count": null,
   "metadata": {},
   "outputs": [],
   "source": []
  },
  {
   "cell_type": "code",
   "execution_count": null,
   "metadata": {},
   "outputs": [],
   "source": []
  },
  {
   "cell_type": "code",
   "execution_count": null,
   "metadata": {},
   "outputs": [],
   "source": []
  },
  {
   "cell_type": "code",
   "execution_count": null,
   "metadata": {},
   "outputs": [],
   "source": []
  },
  {
   "cell_type": "code",
   "execution_count": null,
   "metadata": {},
   "outputs": [],
   "source": []
  },
  {
   "cell_type": "code",
   "execution_count": null,
   "metadata": {},
   "outputs": [],
   "source": []
  },
  {
   "cell_type": "code",
   "execution_count": null,
   "metadata": {},
   "outputs": [],
   "source": []
  },
  {
   "cell_type": "code",
   "execution_count": 6,
   "metadata": {},
   "outputs": [
    {
     "data": {
      "text/html": [
       "<div>\n",
       "<style scoped>\n",
       "    .dataframe tbody tr th:only-of-type {\n",
       "        vertical-align: middle;\n",
       "    }\n",
       "\n",
       "    .dataframe tbody tr th {\n",
       "        vertical-align: top;\n",
       "    }\n",
       "\n",
       "    .dataframe thead th {\n",
       "        text-align: right;\n",
       "    }\n",
       "</style>\n",
       "<table border=\"1\" class=\"dataframe\">\n",
       "  <thead>\n",
       "    <tr style=\"text-align: right;\">\n",
       "      <th></th>\n",
       "      <th>a</th>\n",
       "      <th>b</th>\n",
       "    </tr>\n",
       "  </thead>\n",
       "  <tbody>\n",
       "    <tr>\n",
       "      <th>0</th>\n",
       "      <td>1</td>\n",
       "      <td>a</td>\n",
       "    </tr>\n",
       "    <tr>\n",
       "      <th>1</th>\n",
       "      <td>2</td>\n",
       "      <td>b</td>\n",
       "    </tr>\n",
       "    <tr>\n",
       "      <th>2</th>\n",
       "      <td>4</td>\n",
       "      <td>c</td>\n",
       "    </tr>\n",
       "  </tbody>\n",
       "</table>\n",
       "</div>"
      ],
      "text/plain": [
       "   a  b\n",
       "0  1  a\n",
       "1  2  b\n",
       "2  4  c"
      ]
     },
     "execution_count": 6,
     "metadata": {},
     "output_type": "execute_result"
    }
   ],
   "source": [
    "data = { 'a': [1,2,4], 'b':['a', 'b', 'c']}\n",
    "df_data =  pd.DataFrame(data)\n",
    "df_data"
   ]
  },
  {
   "cell_type": "code",
   "execution_count": null,
   "metadata": {},
   "outputs": [],
   "source": []
  }
 ],
 "metadata": {
  "kernelspec": {
   "display_name": "quant",
   "language": "python",
   "name": "python3"
  },
  "language_info": {
   "codemirror_mode": {
    "name": "ipython",
    "version": 3
   },
   "file_extension": ".py",
   "mimetype": "text/x-python",
   "name": "python",
   "nbconvert_exporter": "python",
   "pygments_lexer": "ipython3",
   "version": "3.11.8"
  }
 },
 "nbformat": 4,
 "nbformat_minor": 2
}
